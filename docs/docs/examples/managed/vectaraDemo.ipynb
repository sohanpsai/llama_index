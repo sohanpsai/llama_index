{
 "cells": [
  {
   "cell_type": "markdown",
   "id": "adf7d63d",
   "metadata": {},
   "source": [
    "<a href=\"https://colab.research.google.com/github/run-llama/llama_index/blob/main/docs/docs/examples/managed/vectaraDemo.ipynb\" target=\"_parent\"><img src=\"https://colab.research.google.com/assets/colab-badge.svg\" alt=\"Open In Colab\"/></a>"
   ]
  },
  {
   "cell_type": "markdown",
   "id": "db0855d0",
   "metadata": {},
   "source": [
    "# Vectara Managed Index\n",
    "In this notebook we are going to show how to use [Vectara](https://vectara.com) with LlamaIndex.\n",
    "\n",
    "[Vectara](https://vectara.com/) is the trusted AI Assistant and Agent platform which focuses on enterprise readiness for mission-critical applications. \n",
    "\n",
    "Vectara provides an end-to-end managed service for Retrieval Augmented Generation or [RAG](https://vectara.com/grounded-generation/), which includes:\n",
    "\n",
    "1. An integrated API for processing input data, including text extraction from documents and ML-based chunking.\n",
    "\n",
    "2. The state-of-the-art [Boomerang](https://vectara.com/how-boomerang-takes-retrieval-augmented-generation-to-the-next-level-via-grounded-generation/) embeddings model. Each text chunk is encoded into a vector embedding using Boomerang, and stored in the Vectara internal knowledge (vector+text) store. Thus, when using Vectara with LlamaIndex you do not need to call a separate embedding model - this happens automatically within the Vectara backend.\n",
    "\n",
    "3. A query service that automatically encodes the query into embeddings and retrieves the most relevant text segmentsthrough [hybrid search](https://docs.vectara.com/docs/api-reference/search-apis/lexical-matching) and a variety of [reranking](https://docs.vectara.com/docs/api-reference/search-apis/reranking) strategies, including a [multilingual reranker](https://docs.vectara.com/docs/learn/vectara-multi-lingual-reranker), [maximal marginal relevance (MMR) reranker](https://docs.vectara.com/docs/learn/mmr-reranker), [user-defined function reranker](https://docs.vectara.com/docs/learn/user-defined-function-reranker), and a [chain reranker](https://docs.vectara.com/docs/learn/chain-reranker) that provides a way to chain together multiple reranking methods to achieve better control over the reranking, combining the strengths of various reranking methods.\n",
    "\n",
    "4. An option to create a [generative summary](https://docs.vectara.com/docs/learn/grounded-generation/grounded-generation-overview) with a wide selection of LLM summarizers (including Vectara's [Mockingbird](https://vectara.com/blog/mockingbird-is-a-rag-specific-llm-that-beats-gpt-4-gemini-1-5-pro-in-rag-output-quality/), trained specifically for RAG-based tasks), based on the retrieved documents, including citations.\n",
    "\n",
    "See the [Vectara API documentation](https://docs.vectara.com/docs/) for more information on how to use the API.\n",
    "\n",
    "The main benefits of using Vectara RAG-as-a-service to build your application are:\n",
    "* **Accuracy and Quality**: Vectara provides an end-to-end platform that focuses on eliminating hallucinations, reducing bias, and safeguarding copyright integrity.\n",
    "* **Security**: Vectara's platform provides acess control--protecting against prompt injection attacks--and meets SOC2 and HIPAA compliance.\n",
    "* **Explainability**: Vectara makes it easy to troubleshoot bad results by clearly explaining rephrased queries, LLM prompts, retrieved results, and agent actions."
   ]
  },
  {
   "cell_type": "markdown",
   "id": "cfe2497c",
   "metadata": {},
   "source": [
    "## Getting Started\n",
    "\n",
    "If you're opening this Notebook on colab, you will probably need to install LlamaIndex 🦙."
   ]
  },
  {
   "cell_type": "code",
   "execution_count": null,
   "id": "6019e01a",
   "metadata": {},
   "outputs": [],
   "source": [
    "!pip install llama-index llama-index-indices-managed-vectara"
   ]
  },
  {
   "cell_type": "markdown",
   "id": "2b201796-4463-4ec4-b537-d855a384878c",
   "metadata": {},
   "source": [
    "To get started with Vectara, [sign up](https://vectara.com/integrations/llamaindex) (if you haven't already) and follow our [quickstart guide](https://docs.vectara.com/docs/quickstart) to create a corpus and an API key.\n",
    "\n",
    "Once you have these, you can provide them as environment variables `VECTARA_CUSTOMER_ID`, `VECTARA_CORPUS_ID`, and `VECTARA_API_KEY`. Make sure your API key has both query and index permissions."
   ]
  },
  {
   "cell_type": "markdown",
   "id": "f7010b1d-d1bb-4f08-9309-a328bb4ea396",
   "metadata": {},
   "source": [
    "## RAG with LlamaIndex and Vectara\n",
    "\n",
    "There are a few ways you can index your data into Vectara, including:\n",
    "1. With the `from_documents()` or `insert_file()` methods of `VectaraIndex`\n",
    "2. Uploading files directly in the [Vectara console](https://console.vectara.com/)\n",
    "3. Using Vectara's FILE_UPLOAD or standard indexing APIs\n",
    "4. Using [vectara-ingest](https://github.com/vectara/vectara-ingest), an open source crawler/indexer project\n",
    "5. Using one of our ingest integration partners like Airbyte, Unstructured or DataVolo.\n",
    "\n",
    "For this purpose, we will use a simple set of small documents, so using `VectaraIndex` directly for the ingest is good enough.\n",
    "\n",
    "Let's ingest the \"AI bill of rights\" document into our new corpus."
   ]
  },
  {
   "cell_type": "code",
   "execution_count": null,
   "id": "c154dd4b",
   "metadata": {},
   "outputs": [
    {
     "data": {
      "text/plain": [
       "'ai-bill-of-rights.pdf'"
      ]
     },
     "execution_count": null,
     "metadata": {},
     "output_type": "execute_result"
    }
   ],
   "source": [
    "from llama_index.indices.managed.vectara import VectaraIndex\n",
    "import requests\n",
    "\n",
    "url = \"https://www.whitehouse.gov/wp-content/uploads/2022/10/Blueprint-for-an-AI-Bill-of-Rights.pdf\"\n",
    "response = requests.get(url)\n",
    "local_path = \"ai-bill-of-rights.pdf\"\n",
    "with open(local_path, \"wb\") as file:\n",
    "    file.write(response.content)\n",
    "\n",
    "index = VectaraIndex()\n",
    "index.insert_file(\n",
    "    local_path, metadata={\"name\": \"AI bill of rights\", \"year\": 2022}\n",
    ")"
   ]
  },
  {
   "cell_type": "markdown",
   "id": "8ee4473a-094f-4d0a-a825-e1213db07240",
   "metadata": {},
   "source": [
    "### Running single queries with Vectara Query Engine\n",
    "Now that we've uploaded the document (or if documents have been uploaded previously) we can go and ask questions directly in LlamaIndex. This activates Vectara's RAG pipeline. \n",
    "\n",
    "To use Vectara's internal LLM for summarization, make sure you specify `summary_enabled=True` when you generate the Query engine. Here's an example:"
   ]
  },
  {
   "cell_type": "code",
   "execution_count": null,
   "id": "bb174ec3",
   "metadata": {},
   "outputs": [],
   "source": [
    "questions = [\n",
    "    \"What are the risks of AI?\",\n",
    "    \"What should we do to prevent bad actors from using AI?\",\n",
    "    \"What are the benefits?\",\n",
    "]"
   ]
  },
  {
   "cell_type": "code",
   "execution_count": null,
   "id": "890f7133",
   "metadata": {},
   "outputs": [
    {
     "data": {
      "text/plain": [
       "\"The risks of AI include biased data and discriminatory outcomes, opaque decision-making processes, and lack of public trust and understanding of algorithmic systems [1]. These risks can lead to harm to individuals and communities, including the potential for meaningful impact on people's rights, opportunities, or access [6]. To mitigate these risks, it is essential to identify and address potential harms before deployment, and to engage with impacted communities to understand the potential harms of technologies and build protection by design into future systems [1][6]. Additionally, strong safety regulations and measures to address harms when they occur can enhance innovation in the context of complex technologies [2]. The development of technical standards and practices tailored for particular sectors and contexts can also help to ensure safe and effective AI systems [7].\""
      ]
     },
     "execution_count": null,
     "metadata": {},
     "output_type": "execute_result"
    }
   ],
   "source": [
    "qe = index.as_query_engine(\n",
    "    summary_enabled=True, summary_prompt_name=\"mockingbird-1.0-2024-07-16\"\n",
    ")\n",
    "qe.query(questions[0]).response"
   ]
  },
  {
   "cell_type": "markdown",
   "id": "5c464a9a-0386-43d5-b074-c7ee8eb1d3fe",
   "metadata": {},
   "source": [
    "If you want the response to be returned in streaming mode, simply set `streaming=True`"
   ]
  },
  {
   "cell_type": "code",
   "execution_count": null,
   "id": "e4eafb4c-4fe7-4e81-b588-dd83979917fc",
   "metadata": {},
   "outputs": [
    {
     "name": "stdout",
     "output_type": "stream",
     "text": [
      "The risks of AI include biased data and discriminatory outcomes, opaque decision-making processes, and lack of public trust and understanding of algorithmic systems [1]. These risks can lead to harm to individuals and communities, including the potential for meaningful impact on people's rights, opportunities, or access [6]. To mitigate these risks, it is essential to identify and address potential harms before deployment, and to engage with impacted communities to understand the potential harms of technologies and build protection by design into future systems [1][6]. Additionally, strong safety regulations and measures to address harms when they occur can enhance innovation in the context of complex technologies [2]. The development of technical standards and practices tailored for particular sectors and contexts can also help to ensure safe and effective AI systems [7]."
     ]
    }
   ],
   "source": [
    "qe = index.as_query_engine(\n",
    "    summary_enabled=True,\n",
    "    summary_prompt_name=\"mockingbird-1.0-2024-07-16\",\n",
    "    streaming=True,\n",
    ")\n",
    "response = qe.query(questions[0])\n",
    "\n",
    "for chunk in response.response_gen:\n",
    "    print(chunk.delta or \"\", end=\"\", flush=True)"
   ]
  },
  {
   "cell_type": "markdown",
   "id": "d2e74c56-2fd3-4e0d-a387-d6088766ce2c",
   "metadata": {},
   "source": [
    "### Using Vectara Chat\n",
    "\n",
    "Vectara also supports a simple chat mode. In this mode the chat history is maintained by Vectara and so you don't have to worry about it. To use it simple call `as_chat_engine`.\n",
    "\n",
    "(Chat mode always uses Vectara's summarization so you don't have to explicitly specify `summary_enabled=True` like before)"
   ]
  },
  {
   "cell_type": "code",
   "execution_count": null,
   "id": "72eb45dc-b02b-4c5f-9f93-28d0e20d6b3f",
   "metadata": {},
   "outputs": [],
   "source": [
    "ce = index.as_chat_engine()"
   ]
  },
  {
   "cell_type": "code",
   "execution_count": null,
   "id": "4907248f-ff80-41fa-98e9-b1e4bb1b1400",
   "metadata": {},
   "outputs": [
    {
     "name": "stdout",
     "output_type": "stream",
     "text": [
      "Question: What are the risks of AI?\n",
      "\n",
      "Response: The risks of AI include potential biased data leading to discriminatory outcomes, opaque decision-making processes, lack of public trust, and understanding of algorithmic systems. Risks also involve safety concerns, such as AI systems violating safety regulations, causing harm, and impacting individuals' rights and opportunities. Furthermore, the misuse of AI, like AI-enabled technology for creating non-consensual images, poses significant risks, affecting individuals' lives and well-being. It is crucial to identify and mitigate risks before deployment, prioritize high-impact risks, and ensure that automated systems do not violate safety standards or harm individuals. Stakeholder engagement, transparency, and ongoing monitoring are essential to address these risks effectively.\n",
      "\n",
      "Question: What should we do to prevent bad actors from using AI?\n",
      "\n",
      "Response: To prevent bad actors from using AI, we should implement safeguards such as ensuring systems are safe, effective, and respect privacy [1]. Additionally, it is crucial to adhere to principles like legality, transparency, and accountability in AI development and usage [2]. Moreover, best practices should be followed to protect against algorithmic discrimination and ensure fairness in all aspects of people's lives [6]. Lastly, it is essential to evaluate, protect, and redress harms at both individual and community levels, especially for underserved communities, to promote equity and fair treatment for all [5].\n",
      "\n",
      "Question: What are the benefits?\n",
      "\n",
      "Response: The benefits of AI include the potential to build innovative infrastructure, improve Americans' lives, provide faster customer care, enhance decision-making in various sectors, revolutionize industries, and make life better for everyone. AI can help farmers grow food efficiently, predict storm paths, identify diseases, and drive important decisions globally. Additionally, AI can be used to protect individuals from unsafe systems and ensure the accountability, transparency, and reliability of AI technologies. Overall, AI holds the promise to positively impact society and improve various aspects of life.\n",
      "\n"
     ]
    }
   ],
   "source": [
    "for q in questions:\n",
    "    print(f\"Question: {q}\\n\")\n",
    "    response = ce.chat(q).response\n",
    "    print(f\"Response: {response}\\n\")"
   ]
  },
  {
   "cell_type": "markdown",
   "id": "b105809b-efea-4937-b6a3-e3de8986aa8c",
   "metadata": {},
   "source": [
    "Of course streaming works as well with Chat:"
   ]
  },
  {
   "cell_type": "code",
   "execution_count": null,
   "id": "61cc0885-01a4-4569-864d-0eb8bbc70eab",
   "metadata": {},
   "outputs": [],
   "source": [
    "ce = index.as_chat_engine(streaming=True)"
   ]
  },
  {
   "cell_type": "code",
   "execution_count": null,
   "id": "e44797ff-d23f-4d6a-9839-82aec6040af0",
   "metadata": {},
   "outputs": [
    {
     "name": "stdout",
     "output_type": "stream",
     "text": [
      "Artificial intelligence will not rule the government. The government is implementing principles and guidelines to ensure the ethical and responsible use of AI in various sectors, including the federal government. These measures focus on transparency, accountability, safety, and adherence to national values, ensuring that AI is used in a manner that upholds civil rights, democratic values, and national security. Sector-specific guidance will continue to evolve to address specific AI applications, but overall, the government remains committed to safeguarding civil liberties and democratic principles in the age of artificial intelligence."
     ]
    }
   ],
   "source": [
    "response = ce.stream_chat(\"Will artificial intelligence rule the government?\")\n",
    "for chunk in response.chat_stream:\n",
    "    print(chunk.delta or \"\", end=\"\", flush=True)"
   ]
  },
  {
   "cell_type": "markdown",
   "id": "e52fe86d-b0d5-4520-bac2-df9324a5eacc",
   "metadata": {},
   "source": [
    "### Agentic RAG\n",
    "\n",
    "Vectara also has its own package, [vectara-agentic](https://github.com/vectara/py-vectara-agentic), built on top of many features from LlamaIndex to easily implement agentic RAG applications. It allows you to create your own AI assistant with RAG query tools and other custom tools, such as making API calls to retrieve information from financial websites. You can find the full documentation for vectara-agentic [here](https://vectara.github.io/vectara-agentic-docs/).\n",
    "\n",
    "Let's create a ReAct Agent with a single RAG tool using vectara-agentic (to create a ReAct agent, specify `VECTARA_AGENTIC_AGENT_TYPE` as `\"REACT\"` in your environment).\n",
    "\n",
    "Vectara does not yet have an LLM capable of acting as an agent for planning and tool use, so we will need to use another LLM as the driver of the agent resoning.\n",
    "\n",
    "In this demo, we are using OpenAI's GPT4o. Please make sure you have `OPENAI_API_KEY` defined in your environment or specify another LLM with the corresponding key (for the full list of supported LLMs, check out our [documentation](https://vectara.github.io/vectara-agentic-docs/introduction.html#try-it-yourself) for setting up your environment)."
   ]
  },
  {
   "cell_type": "code",
   "execution_count": null,
   "id": "69f0d504-bc72-4dfc-8cdf-83b8aa69206c",
   "metadata": {},
   "outputs": [],
   "source": [
    "!pip install -U vectara-agentic"
   ]
  },
  {
   "cell_type": "code",
   "execution_count": null,
   "id": "ee674bf5-fccb-42cb-8499-77aad14fc538",
   "metadata": {},
   "outputs": [
    {
     "name": "stdout",
     "output_type": "stream",
     "text": [
      "Initializing vectara-agentic version 0.1.16...\n",
      "No observer set.\n",
      "> Running step 26a91fbd-0027-42af-96f8-fcf19bd9bf06. Step input: What are the risks of AI? What are the benefits? Compare and contrast and provide a summary with arguments for and against from experts.\n",
      "\u001b[1;3;38;5;200mThought: The current language of the user is: English. I need to use a tool to help me answer the question.\n",
      "Action: query_ai\n",
      "Action Input: {'query': 'risks and benefits of AI, expert opinions, arguments for and against'}\n",
      "\u001b[0m\u001b[1;3;34mObservation: \n",
      "                    Response: '''Here is a summary of the risks and benefits of AI, expert opinions, and arguments for and against, based on the provided sources:\n",
      "\n",
      "**Risks of AI:**\n",
      "\n",
      "* Bias and discriminatory outcomes due to biased data [1]\n",
      "* Opaque decision-making processes [1]\n",
      "* Lack of public trust and understanding of algorithmic systems [1]\n",
      "* Potential for harm to individuals, organizations, and society [3]\n",
      "\n",
      "**Benefits of AI:**\n",
      "\n",
      "* Potential to build better and more innovative infrastructure [2]\n",
      "* Ability to mitigate risks to safety and efficacy of AI systems [3]\n",
      "* Transformative potential to improve Americans' lives [4]\n",
      "\n",
      "**Expert Opinions:**\n",
      "\n",
      "* Emphasis on designing non-discriminatory technology, explainable AI, and human-computer interaction with community participation [1]\n",
      "* Importance of placing trust in people, not technologies, and engaging with impacted communities to understand potential harms [1]\n",
      "* Need for ongoing transparency, value-sensitive and participatory design, and public consultation [1]\n",
      "\n",
      "**Arguments for and Against:**\n",
      "\n",
      "* Strong safety regulations and measures to address harms can enhance innovation in complex technologies [3]\n",
      "* Balancing ownership rights, use rights, and community health, safety, and welfare is critical in the integration of technology [2]\n",
      "* Examining lessons learned from urban planning can inform the development of AI-enabled systems [2]\n",
      "\n",
      "Overall, the sources highlight the importance of designing AI systems that are non-discriminatory, transparent, and trustworthy, while also considering the potential benefits and risks of AI.'''\n",
      "                    References:\n",
      "                    [1]: page='56'; title='Blueprint for an AI Bill of Rights'; section='4'; CreationDate='1663695035'; Producer='iLovePDF'; Title='Blueprint for an AI Bill of Rights'; Creator='Adobe Illustrator 26.3 (Macintosh)'; ModDate='1664808078'; name='AI bill of rights'; year='2022'; framework='llama_index'.\n",
      "[2]: page='56'; title='Blueprint for an AI Bill of Rights'; section='4'; CreationDate='1663695035'; Producer='iLovePDF'; Title='Blueprint for an AI Bill of Rights'; Creator='Adobe Illustrator 26.3 (Macintosh)'; ModDate='1664808078'; name='AI bill of rights'; year='2022'; framework='llama_index'.\n",
      "[3]: page='1'; section='1'; CreationDate='1663695035'; Producer='iLovePDF'; Title='Blueprint for an AI Bill of Rights'; Creator='Adobe Illustrator 26.3 (Macintosh)'; ModDate='1664808078'; name='AI bill of rights'; year='2022'; framework='llama_index'; title='Blueprint for an AI Bill of Rights'.\n",
      "[4]: page='1'; section='1'; CreationDate='1663695035'; Producer='iLovePDF'; Title='Blueprint for an AI Bill of Rights'; Creator='Adobe Illustrator 26.3 (Macintosh)'; ModDate='1664808078'; name='AI bill of rights'; year='2022'; framework='llama_index'; title='Blueprint for an AI Bill of Rights'.\n",
      "\n",
      "                \n",
      "\u001b[0m> Running step f9d86544-5c76-48c5-8efd-02c154945e08. Step input: None\n",
      "\u001b[1;3;38;5;200mThought: I can answer without using any more tools. I'll use the user's language to answer\n",
      "Answer: Here is a summary of the risks and benefits of AI, along with expert opinions and arguments for and against:\n",
      "\n",
      "**Risks of AI:**\n",
      "- AI systems can produce biased and discriminatory outcomes if they are trained on biased data [1].\n",
      "- The decision-making processes of AI can be opaque, making it difficult to understand how conclusions are reached [1].\n",
      "- There is a lack of public trust and understanding of algorithmic systems, which can lead to skepticism and resistance [1].\n",
      "- AI has the potential to cause harm to individuals, organizations, and society if not properly managed [3].\n",
      "\n",
      "**Benefits of AI:**\n",
      "- AI has the potential to build better and more innovative infrastructure, enhancing efficiency and effectiveness [2].\n",
      "- It can help mitigate risks to the safety and efficacy of various systems, improving overall safety standards [3].\n",
      "- AI holds transformative potential to improve the quality of life, offering advancements in various sectors [4].\n",
      "\n",
      "**Expert Opinions:**\n",
      "- Experts emphasize the need for designing non-discriminatory technology, explainable AI, and fostering human-computer interaction with community participation [1].\n",
      "- Trust should be placed in people rather than technologies, and it is crucial to engage with impacted communities to understand potential harms [1].\n",
      "- Ongoing transparency, value-sensitive and participatory design, and public consultation are necessary for the responsible development of AI [1].\n",
      "\n",
      "**Arguments for and Against:**\n",
      "- Implementing strong safety regulations and measures to address potential harms can enhance innovation in complex technologies [3].\n",
      "- Balancing ownership rights, use rights, and community health, safety, and welfare is critical in the integration of AI technology [2].\n",
      "- Lessons learned from urban planning can inform the development of AI-enabled systems, ensuring they are beneficial and sustainable [2].\n",
      "\n",
      "Overall, the sources highlight the importance of designing AI systems that are non-discriminatory, transparent, and trustworthy, while also considering the potential benefits and risks of AI.\n",
      "\n",
      "References:\n",
      "[1]: Blueprint for an AI Bill of Rights\n",
      "[2]: Blueprint for an AI Bill of Rights\n",
      "[3]: Blueprint for an AI Bill of Rights\n",
      "[4]: Blueprint for an AI Bill of Rights\n",
      "\u001b[0mTime taken: 21.543328046798706\n"
     ]
    },
    {
     "data": {
      "text/markdown": [
       "Here is a summary of the risks and benefits of AI, along with expert opinions and arguments for and against:\n",
       "\n",
       "**Risks of AI:**\n",
       "- AI systems can produce biased and discriminatory outcomes if they are trained on biased data [1].\n",
       "- The decision-making processes of AI can be opaque, making it difficult to understand how conclusions are reached [1].\n",
       "- There is a lack of public trust and understanding of algorithmic systems, which can lead to skepticism and resistance [1].\n",
       "- AI has the potential to cause harm to individuals, organizations, and society if not properly managed [3].\n",
       "\n",
       "**Benefits of AI:**\n",
       "- AI has the potential to build better and more innovative infrastructure, enhancing efficiency and effectiveness [2].\n",
       "- It can help mitigate risks to the safety and efficacy of various systems, improving overall safety standards [3].\n",
       "- AI holds transformative potential to improve the quality of life, offering advancements in various sectors [4].\n",
       "\n",
       "**Expert Opinions:**\n",
       "- Experts emphasize the need for designing non-discriminatory technology, explainable AI, and fostering human-computer interaction with community participation [1].\n",
       "- Trust should be placed in people rather than technologies, and it is crucial to engage with impacted communities to understand potential harms [1].\n",
       "- Ongoing transparency, value-sensitive and participatory design, and public consultation are necessary for the responsible development of AI [1].\n",
       "\n",
       "**Arguments for and Against:**\n",
       "- Implementing strong safety regulations and measures to address potential harms can enhance innovation in complex technologies [3].\n",
       "- Balancing ownership rights, use rights, and community health, safety, and welfare is critical in the integration of AI technology [2].\n",
       "- Lessons learned from urban planning can inform the development of AI-enabled systems, ensuring they are beneficial and sustainable [2].\n",
       "\n",
       "Overall, the sources highlight the importance of designing AI systems that are non-discriminatory, transparent, and trustworthy, while also considering the potential benefits and risks of AI.\n",
       "\n",
       "References:\n",
       "[1]: Blueprint for an AI Bill of Rights\n",
       "[2]: Blueprint for an AI Bill of Rights\n",
       "[3]: Blueprint for an AI Bill of Rights\n",
       "[4]: Blueprint for an AI Bill of Rights"
      ],
      "text/plain": [
       "<IPython.core.display.Markdown object>"
      ]
     },
     "metadata": {},
     "output_type": "display_data"
    }
   ],
   "source": [
    "from vectara_agentic.agent import Agent\n",
    "from IPython.display import display, Markdown\n",
    "\n",
    "agent = Agent.from_corpus(\n",
    "    tool_name=\"query_ai\",\n",
    "    data_description=\"AI regulations\",\n",
    "    assistant_specialty=\"artificial intelligence\",\n",
    "    vectara_summary_num_results=5,\n",
    "    vectara_summarizer=\"mockingbird-1.0-2024-07-16\",\n",
    "    vectara_reranker=\"mmr\",\n",
    "    vectara_rerank_k=50,\n",
    "    verbose=True,\n",
    ")\n",
    "\n",
    "response = agent.chat(\n",
    "    \"What are the risks of AI? What are the benefits? Compare and contrast and provide a summary with arguments for and against from experts.\"\n",
    ")\n",
    "\n",
    "display(Markdown(response))"
   ]
  }
 ],
 "metadata": {
  "kernelspec": {
   "display_name": "Python 3 (ipykernel)",
   "language": "python",
   "name": "python3"
  },
  "language_info": {
   "codemirror_mode": {
    "name": "ipython",
    "version": 3
   },
   "file_extension": ".py",
   "mimetype": "text/x-python",
   "name": "python",
   "nbconvert_exporter": "python",
   "pygments_lexer": "ipython3"
  }
 },
 "nbformat": 4,
 "nbformat_minor": 5
}
